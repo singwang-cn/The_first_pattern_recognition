{
  "nbformat": 4,
  "nbformat_minor": 0,
  "metadata": {
    "colab": {
      "name": "ex8_1.ipynb",
      "provenance": [],
      "mount_file_id": "108rcOYjdIdYw7f_5esQwS8wz_41OQOGn",
      "authorship_tag": "ABX9TyOo3PdtfgeduraSu665Y1yl",
      "include_colab_link": true
    },
    "kernelspec": {
      "name": "python3",
      "display_name": "Python 3"
    },
    "language_info": {
      "name": "python"
    }
  },
  "cells": [
    {
      "cell_type": "markdown",
      "metadata": {
        "id": "view-in-github",
        "colab_type": "text"
      },
      "source": [
        "<a href=\"https://colab.research.google.com/github/singwang-cn/The_first_pattern_recognition/blob/master/ex8_1.ipynb\" target=\"_parent\"><img src=\"https://colab.research.google.com/assets/colab-badge.svg\" alt=\"Open In Colab\"/></a>"
      ]
    },
    {
      "cell_type": "code",
      "metadata": {
        "id": "8bnmxSN8pKzV"
      },
      "source": [
        "import numpy as np\n",
        "import pandas as pd\n",
        "import matplotlib.pyplot as plt\n",
        "from sklearn import svm"
      ],
      "execution_count": 1,
      "outputs": []
    },
    {
      "cell_type": "code",
      "metadata": {
        "id": "hVA6b6EbtRT0"
      },
      "source": [
        "data_path = '/content/drive/My Drive/Dataset/diabetes.csv'\n",
        "pima = pd.read_csv(data_path)\n",
        "pima_label = np.array(pima['Outcome'].tolist())\n",
        "pima_nolabel = pima.drop(columns=['Outcome'])\n",
        "pima_data = ((pima_nolabel-pima_nolabel.mean())/pima_nolabel.std()).values"
      ],
      "execution_count": 3,
      "outputs": []
    },
    {
      "cell_type": "code",
      "metadata": {
        "colab": {
          "base_uri": "https://localhost:8080/",
          "height": 130
        },
        "id": "4_HDRhtMtu61",
        "outputId": "dee75ac0-c094-4f18-9b53-cdf780bb97c2"
      },
      "source": [
        "class support_vector_machine():\n",
        "  def __init__(self, kernel='rbf', sigma=4, c=10):\n",
        "    self.kernel = kernel\n",
        "    self.sigma = sigma\n",
        "    self.c = c\n",
        "    self.w = None\n",
        "    self.b = None\n",
        "  def fit(self, X):\n",
        "    print(1)\n",
        "  def recognize(self, x):\n",
        "    result = np.dot(self.w, x) + b\n",
        "    if result > 0:\n",
        "      return 1\n",
        "    if result < 0:\n",
        "      return -1\n",
        "  def rbf_kernel(self, u, v):\n",
        "    norm = np.linalg.norm(u-v, ord=2)\n",
        "    return np.exp(-1/(2*self.sigma)*(norm**2))\n",
        "  def rbf_nonlinear(self, x):\n",
        "    n = x.shape[0]-1\n",
        "    for i in range(n):\n",
        "    "
      ],
      "execution_count": 20,
      "outputs": [
        {
          "output_type": "error",
          "ename": "SyntaxError",
          "evalue": "ignored",
          "traceback": [
            "\u001b[0;36m  File \u001b[0;32m\"<ipython-input-20-259dd34a043f>\"\u001b[0;36m, line \u001b[0;32m21\u001b[0m\n\u001b[0;31m    \u001b[0m\n\u001b[0m    ^\u001b[0m\n\u001b[0;31mSyntaxError\u001b[0m\u001b[0;31m:\u001b[0m unexpected EOF while parsing\n"
          ]
        }
      ]
    },
    {
      "cell_type": "code",
      "metadata": {
        "colab": {
          "base_uri": "https://localhost:8080/"
        },
        "id": "4lZnUxe8hFvR",
        "outputId": "a3664015-46c0-4f23-c48e-f52abaef3359"
      },
      "source": [
        "x1 = np.array([3, 4])\n",
        "x2 = np.array([0, 0])\n",
        "svm = support_vector_machine()\n",
        "svm.RBF_kernel(x2, x1)\n",
        "x1.shape[0]"
      ],
      "execution_count": 22,
      "outputs": [
        {
          "output_type": "execute_result",
          "data": {
            "text/plain": [
              "2"
            ]
          },
          "metadata": {},
          "execution_count": 22
        }
      ]
    }
  ]
}