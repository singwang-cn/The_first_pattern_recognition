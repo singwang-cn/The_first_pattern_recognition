{
  "nbformat": 4,
  "nbformat_minor": 0,
  "metadata": {
    "colab": {
      "name": "ex8_1.ipynb",
      "provenance": [],
      "mount_file_id": "https://github.com/singwang-cn/The_first_pattern_recognition/blob/master/ex8_1.ipynb",
      "authorship_tag": "ABX9TyPaJa8R51oRcp32hzppmWzt",
      "include_colab_link": true
    },
    "kernelspec": {
      "name": "python3",
      "display_name": "Python 3"
    },
    "language_info": {
      "name": "python"
    }
  },
  "cells": [
    {
      "cell_type": "markdown",
      "metadata": {
        "id": "view-in-github",
        "colab_type": "text"
      },
      "source": [
        "<a href=\"https://colab.research.google.com/github/singwang-cn/The_first_pattern_recognition/blob/master/ex8_1.ipynb\" target=\"_parent\"><img src=\"https://colab.research.google.com/assets/colab-badge.svg\" alt=\"Open In Colab\"/></a>"
      ]
    },
    {
      "cell_type": "code",
      "metadata": {
        "id": "8bnmxSN8pKzV"
      },
      "source": [
        "import numpy as np\n",
        "import pandas as pd\n",
        "import matplotlib.pyplot as plt\n",
        "from scipy.optimize import minimize\n",
        "from sklearn import svm"
      ],
      "execution_count": 109,
      "outputs": []
    },
    {
      "cell_type": "code",
      "metadata": {
        "id": "4_HDRhtMtu61"
      },
      "source": [
        "class support_vector_machine():\n",
        "  def __init__(self, kernel='rbf', sigma=4, c=10):\n",
        "    self.kernel = kernel\n",
        "    self.sigma = sigma\n",
        "    self.c = c\n",
        "    self.w = None\n",
        "    self.b = None\n",
        "    self.l = None\n",
        "    self.t = None\n",
        "    self.H = None\n",
        "    self.alpha = None\n",
        "    self.cons = (\n",
        "      {'type': 'eq', 'fun': lambda x: np.dot(x, self.t)}\n",
        "    )\n",
        "  def obj_func(self, alpha):\n",
        "    return 1/2*np.dot(np.dot(alpha, self.H), alpha)-np.sum(alpha)\n",
        "  def fit(self, X, Y):\n",
        "    n, d = X.shape\n",
        "    self.l = X\n",
        "    self.t = np.where(Y==0, -1, 1)\n",
        "    self.H = np.zeros((n, n))\n",
        "    for i in range(n):\n",
        "      for j in range(n):\n",
        "        self.H[i][j] = self.t[i]*self.t[j]*self.rbf_kernel(X[i], X[j])\n",
        "    self.alpha = minimize(self.obj_func, \n",
        "                        x0=np.random.rand(n), bounds=((0, self.c),)*n,\n",
        "                        constraints=self.cons, method=\"SLSQP\").x\n",
        "  def predict(self, x):\n",
        "    n = self.alpha.shape[0]\n",
        "    result = np.zeros(n)\n",
        "    for i in range(n):\n",
        "      result[i] = self.alpha[i]*self.t[i]*self.rbf_kernel(self.l[i], x)\n",
        "    if np.sum(result) > 0:\n",
        "      return 1\n",
        "    else:\n",
        "      return 0\n",
        "  def rbf_kernel(self, u, v):\n",
        "    norm = np.linalg.norm(u-v, ord=2)\n",
        "    return np.exp(-1/(2*self.sigma)*(norm**2))\n",
        "    "
      ],
      "execution_count": 176,
      "outputs": []
    },
    {
      "cell_type": "code",
      "metadata": {
        "id": "hVA6b6EbtRT0"
      },
      "source": [
        "data_path = '/content/drive/My Drive/Dataset/diabetes.csv'\n",
        "pima = pd.read_csv(data_path)\n",
        "pima_label = np.array(pima['Outcome'].tolist())\n",
        "pima_nolabel = pima[['Glucose', 'BMI']]\n",
        "pima_data = ((pima_nolabel-pima_nolabel.mean())/pima_nolabel.std()).values"
      ],
      "execution_count": 188,
      "outputs": []
    },
    {
      "cell_type": "code",
      "metadata": {
        "id": "4lZnUxe8hFvR"
      },
      "source": [
        "svm = support_vector_machine()\n",
        "svm.fit(pima_data, pima_label)"
      ],
      "execution_count": 190,
      "outputs": []
    },
    {
      "cell_type": "code",
      "metadata": {
        "colab": {
          "base_uri": "https://localhost:8080/"
        },
        "id": "ydcWaiTvQuOQ",
        "outputId": "156ef05a-ca9d-4ec1-e2d9-9be12e572f59"
      },
      "source": [
        "correct = 0\n",
        "result = np.zeros(pima_label.shape[0])\n",
        "for i in range(pima_label.shape[0]):\n",
        "  result[i] = svm.predict(pima_data[i])\n",
        "  if result[i] == pima_label[i]:\n",
        "    #print(svm.predict(pima_data[i]), pima_label[i])\n",
        "    correct += 1\n",
        "  #else:\n",
        "    #print(i)\n",
        "print(correct/pima_label.shape[0])"
      ],
      "execution_count": 205,
      "outputs": [
        {
          "output_type": "stream",
          "name": "stdout",
          "text": [
            "0.765625\n"
          ]
        }
      ]
    },
    {
      "cell_type": "code",
      "metadata": {
        "colab": {
          "base_uri": "https://localhost:8080/"
        },
        "id": "NZp-Mp6RQoGK",
        "outputId": "269e2707-d096-4a38-dbf2-a9e3fd37172f"
      },
      "source": [
        "pima_label[642]"
      ],
      "execution_count": 202,
      "outputs": [
        {
          "output_type": "execute_result",
          "data": {
            "text/plain": [
              "1"
            ]
          },
          "metadata": {},
          "execution_count": 202
        }
      ]
    },
    {
      "cell_type": "code",
      "metadata": {
        "id": "6emHArDHYhUk",
        "outputId": "824fc637-da46-499f-dc0c-223b9c4d21b9",
        "colab": {
          "base_uri": "https://localhost:8080/"
        }
      },
      "source": [
        "svm.predict(pima_data[642])"
      ],
      "execution_count": 203,
      "outputs": [
        {
          "output_type": "execute_result",
          "data": {
            "text/plain": [
              "0"
            ]
          },
          "metadata": {},
          "execution_count": 203
        }
      ]
    }
  ]
}