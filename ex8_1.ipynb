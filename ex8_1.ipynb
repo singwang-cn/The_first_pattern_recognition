{
  "nbformat": 4,
  "nbformat_minor": 0,
  "metadata": {
    "colab": {
      "name": "ex8_1.ipynb",
      "provenance": [],
      "toc_visible": true,
      "mount_file_id": "https://github.com/singwang-cn/The_first_pattern_recognition/blob/master/ex8_1.ipynb",
      "authorship_tag": "ABX9TyPnWXATCdRoTw31ftpn9/aY",
      "include_colab_link": true
    },
    "kernelspec": {
      "name": "python3",
      "display_name": "Python 3"
    },
    "language_info": {
      "name": "python"
    }
  },
  "cells": [
    {
      "cell_type": "markdown",
      "metadata": {
        "id": "view-in-github",
        "colab_type": "text"
      },
      "source": [
        "<a href=\"https://colab.research.google.com/github/singwang-cn/The_first_pattern_recognition/blob/master/ex8_1.ipynb\" target=\"_parent\"><img src=\"https://colab.research.google.com/assets/colab-badge.svg\" alt=\"Open In Colab\"/></a>"
      ]
    },
    {
      "cell_type": "code",
      "metadata": {
        "id": "8bnmxSN8pKzV"
      },
      "source": [
        "import numpy as np\n",
        "import pandas as pd\n",
        "import matplotlib.pyplot as plt\n",
        "from scipy.optimize import minimize\n",
        "from sklearn.datasets import load_diabetes\n",
        "from sklearn.model_selection import LeaveOneOut\n",
        "from sklearn import svm"
      ],
      "execution_count": 34,
      "outputs": []
    },
    {
      "cell_type": "markdown",
      "metadata": {
        "id": "T3CegMGiavfi"
      },
      "source": [
        "# Implementation of SVM with RBF kernel function\n",
        "The optimal parameters alpha are solved by sciPy.\n"
      ]
    },
    {
      "cell_type": "code",
      "metadata": {
        "id": "4_HDRhtMtu61"
      },
      "source": [
        "class support_vector_machine():\n",
        "  def __init__(self, kernel='rbf', sigma=4, c=10):\n",
        "    self.kernel = kernel\n",
        "    self.sigma = sigma\n",
        "    self.c = c\n",
        "    self.w = None\n",
        "    self.b = None\n",
        "    self.l = None\n",
        "    self.t = None\n",
        "    self.H = None\n",
        "    self.alpha = None\n",
        "    self.cons = (\n",
        "      {'type': 'eq', 'fun': lambda x: np.dot(x, self.t)}\n",
        "    )\n",
        "  def obj_func(self, alpha):\n",
        "    return 1/2*np.dot(np.dot(alpha, self.H), alpha)-np.sum(alpha)\n",
        "  def fit(self, X, Y):\n",
        "    n, d = X.shape\n",
        "    self.l = X\n",
        "    self.t = np.where(Y==0, -1, 1)\n",
        "    self.H = np.zeros((n, n))\n",
        "    for i in range(n):\n",
        "      for j in range(n):\n",
        "        self.H[i][j] = self.t[i]*self.t[j]*self.rbf_kernel(X[i], X[j])\n",
        "    self.alpha = minimize(self.obj_func, \n",
        "                        x0=np.random.rand(n), bounds=((0, self.c),)*n,\n",
        "                        constraints=self.cons, method=\"SLSQP\").x\n",
        "  def predict(self, x):\n",
        "    n = self.alpha.shape[0]\n",
        "    result = np.zeros(n)\n",
        "    for i in range(n):\n",
        "      result[i] = self.alpha[i]*self.t[i]*self.rbf_kernel(self.l[i], x)\n",
        "    if np.sum(result) > 0:\n",
        "      return 1\n",
        "    else:\n",
        "      return 0\n",
        "  def rbf_kernel(self, u, v):\n",
        "    norm = np.linalg.norm(u-v, ord=2)\n",
        "    return np.exp(-1/(2*self.sigma)*(norm**2))\n",
        "    "
      ],
      "execution_count": 79,
      "outputs": []
    },
    {
      "cell_type": "markdown",
      "metadata": {
        "id": "YCGGIs9jcOFJ"
      },
      "source": [
        "# Pima Indians Diabetes Dataset\n",
        "The dataset is divided into features and labels, and all of the features are normalized."
      ]
    },
    {
      "cell_type": "code",
      "metadata": {
        "id": "hVA6b6EbtRT0"
      },
      "source": [
        "'''\n",
        "data_path = '/content/drive/My Drive/Dataset/diabetes.csv'\n",
        "pima = pd.read_csv(data_path)\n",
        "pima_label = np.array(pima['Outcome'].tolist())\n",
        "pima_nolabel = pima[['Glucose', 'BMI']]\n",
        "pima_data = ((pima_nolabel-pima_nolabel.mean())/pima_nolabel.std()).values\n",
        "'''"
      ],
      "execution_count": 98,
      "outputs": []
    },
    {
      "cell_type": "code",
      "metadata": {
        "id": "aqaABMZp7mhT"
      },
      "source": [
        "diabetes = load_diabetes()\n",
        "pima_nolabel = pd.DataFrame(data=diabetes.data, columns=diabetes.feature_names)[['bmi', 's6']]\n",
        "pima_data = ((pima_nolabel-pima_nolabel.mean())/pima_nolabel.std()).values\n",
        "pima_target = pd.DataFrame(data=diabetes.target).values.flatten()\n",
        "pima_label = np.where(pima_target < 140, 0, 1 )"
      ],
      "execution_count": 106,
      "outputs": []
    },
    {
      "cell_type": "markdown",
      "metadata": {
        "id": "ro-cNu7qdhSo"
      },
      "source": [
        "# Computing Training Error Rate\n",
        "The data used here are from index 0 to index 199 (200 in total)."
      ]
    },
    {
      "cell_type": "code",
      "metadata": {
        "id": "4lZnUxe8hFvR"
      },
      "source": [
        "error_rate = np.zeros((4, 5))\n",
        "sigma_list = [0.2, 0.4, 0.8, 4.0]\n",
        "for i in range(4):\n",
        "  for j in range(5):\n",
        "    mysvm = support_vector_machine(kernel='rbf', sigma=sigma_list[i], c=10**j)\n",
        "    mysvm.fit(pima_data[0:199], pima_label[0:199])\n",
        "    for k in range(200):\n",
        "      if mysvm.predict(pima_data[k]) != pima_label[k]:\n",
        "        error_rate[i][j] += 1\n",
        "    error_rate[i][j] /= 200"
      ],
      "execution_count": 109,
      "outputs": []
    },
    {
      "cell_type": "markdown",
      "metadata": {
        "id": "BxnF9S0xfb4C"
      },
      "source": [
        "# Computing Test Error Rate\n",
        "The data for training are from index 0 to index 199 (200 in total).\n",
        "\n",
        "The validation data are from index 200 to index 499 (300 in total).\n"
      ]
    },
    {
      "cell_type": "code",
      "metadata": {
        "id": "xBIzOTb6mbWa"
      },
      "source": [
        "gen_error_rate = np.zeros((4, 5))\n",
        "for i in range(4):\n",
        "  for j in range(5):\n",
        "    mysvm2 = support_vector_machine(kernel='rbf', sigma=sigma_list[i], c=10**j)\n",
        "    mysvm2.fit(pima_data[0:199], pima_label[0:199])\n",
        "    for k in range(242):\n",
        "      if mysvm2.predict(pima_data[k+200]) != pima_label[k+200]:\n",
        "        gen_error_rate[i][j] += 1\n",
        "    gen_error_rate[i][j] /= 242\n"
      ],
      "execution_count": 111,
      "outputs": []
    },
    {
      "cell_type": "markdown",
      "metadata": {
        "id": "0qRLtBgrhpub"
      },
      "source": [
        "# Visualization of Result\n",
        "We can see the error rates in the following graph when sigma is 0.2 0.4 0.8 4.0 and the constant C is 1 to 10000."
      ]
    },
    {
      "cell_type": "code",
      "metadata": {
        "id": "am0kDKennUzY",
        "colab": {
          "base_uri": "https://localhost:8080/",
          "height": 312
        },
        "outputId": "57e46798-89cb-4fad-d805-5bc1204296c9"
      },
      "source": [
        "plt.figure(\"error rate and C on pima data set\")\n",
        "plt.title(\"error rate and C on pima data set\")\n",
        "plt.plot([1,2,3,4,5], error_rate[0], marker='o', color='darkorange', label='σ=0.2')\n",
        "plt.plot([1,2,3,4,5], error_rate[1], marker='^', color='darkorange', label='σ=0.4')\n",
        "plt.plot([1,2,3,4,5], error_rate[2], marker='+', color='darkorange', label='σ=0.8')\n",
        "plt.plot([1,2,3,4,5], error_rate[3], marker='x', color='darkorange', label='σ=4.0')\n",
        "plt.plot([1,2,3,4,5], gen_error_rate[0], marker='o', color='deeppink', label='σ=0.2', linestyle='--')\n",
        "plt.plot([1,2,3,4,5], gen_error_rate[1], marker='^', color='deeppink', label='σ=0.4', linestyle='--')\n",
        "plt.plot([1,2,3,4,5], gen_error_rate[2], marker='+', color='deeppink', label='σ=0.8', linestyle='--')\n",
        "plt.plot([1,2,3,4,5], gen_error_rate[3], marker='x', color='deeppink', label='σ=4.0', linestyle='--')\n",
        "plt.xlabel('C')\n",
        "plt.xticks([1, 2, 3, 4, 5], ['1', '10', '100', '1000', '10000'])\n",
        "plt.ylabel('error rate')\n",
        "plt.legend()"
      ],
      "execution_count": 113,
      "outputs": [
        {
          "output_type": "execute_result",
          "data": {
            "text/plain": [
              "<matplotlib.legend.Legend at 0x7f51a3b57850>"
            ]
          },
          "metadata": {},
          "execution_count": 113
        },
        {
          "output_type": "display_data",
          "data": {
            "image/png": "[encoded data removed]",
            "text/plain": [
              "<Figure size 432x288 with 1 Axes>"
            ]
          },
          "metadata": {
            "needs_background": "light"
          }
        }
      ]
    }
  ]
}