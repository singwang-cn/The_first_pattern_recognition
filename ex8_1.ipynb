{
  "nbformat": 4,
  "nbformat_minor": 0,
  "metadata": {
    "colab": {
      "name": "ex8_1.ipynb",
      "provenance": [],
      "mount_file_id": "108rcOYjdIdYw7f_5esQwS8wz_41OQOGn",
      "authorship_tag": "ABX9TyMzaGyU+OgP+1mE08sz5dNM",
      "include_colab_link": true
    },
    "kernelspec": {
      "name": "python3",
      "display_name": "Python 3"
    },
    "language_info": {
      "name": "python"
    }
  },
  "cells": [
    {
      "cell_type": "markdown",
      "metadata": {
        "id": "view-in-github",
        "colab_type": "text"
      },
      "source": [
        "<a href=\"https://colab.research.google.com/github/singwang-cn/The_first_pattern_recognition/blob/master/ex8_1.ipynb\" target=\"_parent\"><img src=\"https://colab.research.google.com/assets/colab-badge.svg\" alt=\"Open In Colab\"/></a>"
      ]
    },
    {
      "cell_type": "code",
      "metadata": {
        "id": "8bnmxSN8pKzV"
      },
      "source": [
        "import numpy as np\n",
        "import pandas as pd\n",
        "import matplotlib.pyplot as plt\n",
        "from scipy.optimize import minimize\n",
        "from sklearn import svm"
      ],
      "execution_count": null,
      "outputs": []
    },
    {
      "cell_type": "code",
      "metadata": {
        "id": "hVA6b6EbtRT0"
      },
      "source": [
        "data_path = '/content/drive/My Drive/Dataset/diabetes.csv'\n",
        "pima = pd.read_csv(data_path)\n",
        "pima_label = np.array(pima['Outcome'].tolist())\n",
        "pima_nolabel = pima.drop(columns=['Outcome'])\n",
        "pima_data = ((pima_nolabel-pima_nolabel.mean())/pima_nolabel.std()).values"
      ],
      "execution_count": null,
      "outputs": []
    },
    {
      "cell_type": "code",
      "metadata": {
        "id": "4_HDRhtMtu61"
      },
      "source": [
        "class support_vector_machine():\n",
        "  def __init__(self, kernel='rbf', sigma=4, c=10):\n",
        "    self.kernel = kernel\n",
        "    self.sigma = sigma\n",
        "    self.c = c\n",
        "    self.w = None\n",
        "    self.b = None\n",
        "  def fit(self, X):\n",
        "    print(1)\n",
        "  def recognize(self, x):\n",
        "    result = np.dot(self.w, x) + b\n",
        "    if result > 0:\n",
        "      return 1\n",
        "    if result < 0:\n",
        "      return -1\n",
        "  def rbf_kernel(self, u, v):\n",
        "    norm = np.linalg.norm(u-v, ord=2)\n",
        "    return np.exp(-1/(2*self.sigma)*(norm**2))\n",
        "  def rbf_nonlinear(self, x):\n",
        "    n = x.shape[0]-1\n",
        "    #for i in range(n):\n",
        "    "
      ],
      "execution_count": null,
      "outputs": []
    },
    {
      "cell_type": "code",
      "metadata": {
        "colab": {
          "base_uri": "https://localhost:8080/"
        },
        "id": "4lZnUxe8hFvR",
        "outputId": "f0cf98e5-af32-4476-bf5c-7e0f03382ec2"
      },
      "source": [
        "x1 = np.array([3, 4])\n",
        "x2 = np.array([0, 0])\n",
        "svm = support_vector_machine()\n",
        "svm.rbf_kernel(x2, x1)"
      ],
      "execution_count": null,
      "outputs": [
        {
          "output_type": "execute_result",
          "data": {
            "text/plain": [
              "0.04393693362340742"
            ]
          },
          "metadata": {},
          "execution_count": 6
        }
      ]
    },
    {
      "cell_type": "code",
      "metadata": {
        "id": "d2ZPC33PXIt2"
      },
      "source": [
        "H = np.array([[1, 1],\n",
        "              [1, 0]])\n",
        "t = np.array([1, 1])\n",
        "c = 10\n",
        "alpha = np.array([3, 4])"
      ],
      "execution_count": 82,
      "outputs": []
    },
    {
      "cell_type": "code",
      "metadata": {
        "id": "KZw5_HzVNonZ"
      },
      "source": [
        "def obj_func(alpha):\n",
        "  return 1/2*np.dot(np.dot(alpha, H), alpha)-np.sum(alpha)\n",
        "\n",
        "cons = (\n",
        "    {'type': 'eq', 'fun': lambda x: np.dot(x, t)}\n",
        ")"
      ],
      "execution_count": 80,
      "outputs": []
    },
    {
      "cell_type": "code",
      "metadata": {
        "id": "ff0Sfzv0Yv3I",
        "colab": {
          "base_uri": "https://localhost:8080/"
        },
        "outputId": "4c0384eb-6a67-4969-ce99-a0c48bc668d3"
      },
      "source": [
        "minimize(obj_func, x0=alpha, bounds=((0, c),(2,np.inf)), constraints=cons, method=\"SLSQP\")"
      ],
      "execution_count": 86,
      "outputs": [
        {
          "output_type": "execute_result",
          "data": {
            "text/plain": [
              "     fun: -2.0\n",
              "     jac: array([ 1.00000001, -1.        ])\n",
              " message: 'Positive directional derivative for linesearch'\n",
              "    nfev: 194\n",
              "     nit: 18\n",
              "    njev: 16\n",
              "  status: 8\n",
              " success: False\n",
              "       x: array([1.12566206e-18, 2.00000000e+00])"
            ]
          },
          "metadata": {},
          "execution_count": 86
        }
      ]
    },
    {
      "cell_type": "code",
      "metadata": {
        "id": "64SCoBhEXrk8",
        "colab": {
          "base_uri": "https://localhost:8080/"
        },
        "outputId": "f5788764-06ce-4d9b-df41-414ec8601142"
      },
      "source": [
        ""
      ],
      "execution_count": null,
      "outputs": [
        {
          "output_type": "execute_result",
          "data": {
            "text/plain": [
              "array([ True,  True])"
            ]
          },
          "metadata": {},
          "execution_count": 39
        }
      ]
    }
  ]
}