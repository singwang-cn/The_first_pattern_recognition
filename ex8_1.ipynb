{
  "nbformat": 4,
  "nbformat_minor": 0,
  "metadata": {
    "colab": {
      "name": "ex8_1.ipynb",
      "provenance": [],
      "mount_file_id": "https://github.com/singwang-cn/The_first_pattern_recognition/blob/master/ex8_1.ipynb",
      "authorship_tag": "ABX9TyMuH7VtqSwk4QpFSHt+XHRI",
      "include_colab_link": true
    },
    "kernelspec": {
      "name": "python3",
      "display_name": "Python 3"
    },
    "language_info": {
      "name": "python"
    }
  },
  "cells": [
    {
      "cell_type": "markdown",
      "metadata": {
        "id": "view-in-github",
        "colab_type": "text"
      },
      "source": [
        "<a href=\"https://colab.research.google.com/github/singwang-cn/The_first_pattern_recognition/blob/master/ex8_1.ipynb\" target=\"_parent\"><img src=\"https://colab.research.google.com/assets/colab-badge.svg\" alt=\"Open In Colab\"/></a>"
      ]
    },
    {
      "cell_type": "code",
      "metadata": {
        "id": "8bnmxSN8pKzV"
      },
      "source": [
        "import numpy as np\n",
        "import pandas as pd\n",
        "import matplotlib.pyplot as plt\n",
        "from scipy.optimize import minimize\n",
        "from sklearn.model_selection import LeaveOneOut\n",
        "from sklearn import svm"
      ],
      "execution_count": 243,
      "outputs": []
    },
    {
      "cell_type": "code",
      "metadata": {
        "id": "4_HDRhtMtu61"
      },
      "source": [
        "class support_vector_machine():\n",
        "  def __init__(self, kernel='rbf', sigma=4, c=10):\n",
        "    self.kernel = kernel\n",
        "    self.sigma = sigma\n",
        "    self.c = c\n",
        "    self.w = None\n",
        "    self.b = None\n",
        "    self.l = None\n",
        "    self.t = None\n",
        "    self.H = None\n",
        "    self.alpha = None\n",
        "    self.cons = (\n",
        "      {'type': 'eq', 'fun': lambda x: np.dot(x, self.t)}\n",
        "    )\n",
        "  def obj_func(self, alpha):\n",
        "    return 1/2*np.dot(np.dot(alpha, self.H), alpha)-np.sum(alpha)\n",
        "  def fit(self, X, Y):\n",
        "    n, d = X.shape\n",
        "    self.l = X\n",
        "    self.t = np.where(Y==0, -1, 1)\n",
        "    self.H = np.zeros((n, n))\n",
        "    for i in range(n):\n",
        "      for j in range(n):\n",
        "        self.H[i][j] = self.t[i]*self.t[j]*self.rbf_kernel(X[i], X[j])\n",
        "    self.alpha = minimize(self.obj_func, \n",
        "                        x0=np.random.rand(n), bounds=((0, self.c),)*n,\n",
        "                        constraints=self.cons, method=\"SLSQP\").x\n",
        "  def predict(self, x):\n",
        "    n = self.alpha.shape[0]\n",
        "    result = np.zeros(n)\n",
        "    for i in range(n):\n",
        "      result[i] = self.alpha[i]*self.t[i]*self.rbf_kernel(self.l[i], x)\n",
        "    if np.sum(result) > 0:\n",
        "      return 1\n",
        "    else:\n",
        "      return 0\n",
        "  def rbf_kernel(self, u, v):\n",
        "    norm = np.linalg.norm(u-v, ord=2)\n",
        "    return np.exp(-1/(2*self.sigma)*(norm**2))\n",
        "    "
      ],
      "execution_count": 212,
      "outputs": []
    },
    {
      "cell_type": "code",
      "metadata": {
        "id": "hVA6b6EbtRT0"
      },
      "source": [
        "data_path = '/content/drive/My Drive/Dataset/diabetes.csv'\n",
        "pima = pd.read_csv(data_path)\n",
        "pima_label = np.array(pima['Outcome'].tolist())\n",
        "pima_nolabel = pima[['Glucose', 'BMI']]\n",
        "pima_data = ((pima_nolabel-pima_nolabel.mean())/pima_nolabel.std()).values"
      ],
      "execution_count": 188,
      "outputs": []
    },
    {
      "cell_type": "code",
      "metadata": {
        "id": "4lZnUxe8hFvR"
      },
      "source": [
        "error_rate = np.zeros((4, 5))\n",
        "sigma_list = [0.2, 0.4, 0.8, 4.0]\n",
        "for i in range(4):\n",
        "  for j in range(5):\n",
        "    mysvm = support_vector_machine(kernel='rbf', sigma=sigma_list[i], c=10**j)\n",
        "    mysvm.fit(pima_data[0:199], pima_label[0:199])\n",
        "    for k in range(200):\n",
        "      if mysvm.predict(pima_data[k]) != pima_label[k]:\n",
        "        error_rate[i][j] += 1\n",
        "    error_rate[i][j] /= 200"
      ],
      "execution_count": 244,
      "outputs": []
    },
    {
      "cell_type": "code",
      "metadata": {
        "id": "xBIzOTb6mbWa",
        "outputId": "72f4390f-a53e-431c-afc2-89dbc3a4a24b",
        "colab": {
          "base_uri": "https://localhost:8080/"
        }
      },
      "source": [
        "loo_error_rate = np.zeros((4, 5))\n",
        "loo = LeaveOneOut()\n"
      ],
      "execution_count": 232,
      "outputs": [
        {
          "output_type": "execute_result",
          "data": {
            "text/plain": [
              "array([[0.23 , 0.175, 0.15 , 0.295, 0.36 ],\n",
              "       [0.225, 0.22 , 0.205, 0.175, 0.395],\n",
              "       [0.215, 0.22 , 0.215, 0.28 , 0.285],\n",
              "       [0.23 , 0.29 , 0.3  , 0.355, 0.51 ]])"
            ]
          },
          "metadata": {},
          "execution_count": 232
        }
      ]
    },
    {
      "cell_type": "code",
      "metadata": {
        "id": "am0kDKennUzY",
        "outputId": "2d11b9ac-578a-4a0c-a5a7-7e24f2665137",
        "colab": {
          "base_uri": "https://localhost:8080/",
          "height": 312
        }
      },
      "source": [
        "plt.figure(\"error rate and C on pima data set\")\n",
        "plt.title(\"error rate and C on pima data set\")\n",
        "plt.plot([1,2,3,4,5], error_rate[0], marker='o', color='darkorange', label='σ=0.2', linestyle='--')\n",
        "plt.plot([1,2,3,4,5], error_rate[1], marker='^', color='darkorange', label='σ=0.4', linestyle='--')\n",
        "plt.plot([1,2,3,4,5], error_rate[2], marker='+', color='darkorange', label='σ=0.8', linestyle='--')\n",
        "plt.plot([1,2,3,4,5], error_rate[3], marker='x', color='darkorange', label='σ=4.0', linestyle='--')\n",
        "plt.xlabel('C')\n",
        "plt.xticks([1, 2, 3, 4, 5], ['1', '10', '100', '1000', '10000'])\n",
        "plt.ylabel('error rate')\n",
        "plt.legend()"
      ],
      "execution_count": 245,
      "outputs": [
        {
          "output_type": "execute_result",
          "data": {
            "text/plain": [
              "<matplotlib.legend.Legend at 0x7f77b60aad90>"
            ]
          },
          "metadata": {},
          "execution_count": 245
        },
        {
          "output_type": "display_data",
          "data": {
            "image/png": "[encoded data removed]",
            "text/plain": [
              "<Figure size 432x288 with 1 Axes>"
            ]
          },
          "metadata": {
            "needs_background": "light"
          }
        }
      ]
    }
  ]
}