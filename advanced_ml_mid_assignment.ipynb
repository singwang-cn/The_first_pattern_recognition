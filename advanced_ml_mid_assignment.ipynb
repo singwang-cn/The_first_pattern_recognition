{
  "nbformat": 4,
  "nbformat_minor": 0,
  "metadata": {
    "colab": {
      "name": "advanced_ml_mid_assignment.ipynb",
      "provenance": [],
      "collapsed_sections": [],
      "toc_visible": true,
      "authorship_tag": "ABX9TyNrdZdc0cAhC/8eVqRDaVNA",
      "include_colab_link": true
    },
    "kernelspec": {
      "name": "python3",
      "display_name": "Python 3"
    },
    "language_info": {
      "name": "python"
    }
  },
  "cells": [
    {
      "cell_type": "markdown",
      "metadata": {
        "id": "view-in-github",
        "colab_type": "text"
      },
      "source": [
        "<a href=\"https://colab.research.google.com/github/singwang-cn/The_first_pattern_recognition/blob/master/advanced_ml_mid_assignment.ipynb\" target=\"_parent\"><img src=\"https://colab.research.google.com/assets/colab-badge.svg\" alt=\"Open In Colab\"/></a>"
      ]
    },
    {
      "cell_type": "code",
      "execution_count": 19,
      "metadata": {
        "id": "SMkt3vgsE3OA"
      },
      "outputs": [],
      "source": [
        "import numpy as np\n",
        "import matplotlib.pyplot as plt\n",
        "import cvxpy as cp"
      ]
    },
    {
      "cell_type": "markdown",
      "source": [
        "# Problem 1 (1, 2, 3, 4)"
      ],
      "metadata": {
        "id": "ozEGODvvYLJY"
      }
    },
    {
      "cell_type": "code",
      "source": [
        "# dataset 4\n",
        "n = 200\n",
        "x_d4 = 3 * (np.random.rand(n, 4) - 0.5)\n",
        "y_d4 = (2 * x_d4[:, 0] - 1 * x_d4[:,1] + 0.5 + 0.5 * np.random.randn(n)) > 0\n",
        "y_d4 = 2 * y_d4 -1"
      ],
      "metadata": {
        "id": "QyzwzhxfJ2C3"
      },
      "execution_count": 5,
      "outputs": []
    },
    {
      "cell_type": "code",
      "source": [
        "#X = np.column_stack((x_d4,np.ones((200, 1))))\n",
        "X = x_d4[:,:-1]\n",
        "Y = y_d4"
      ],
      "metadata": {
        "id": "cY-DKnJMQwlF"
      },
      "execution_count": 6,
      "outputs": []
    },
    {
      "cell_type": "code",
      "source": [
        "def loss_func(X, Y, W, lamb):\n",
        "  return np.log(1 + np.exp(-Y * np.dot(X, W))).sum() + lamb * np.dot(W, W)\n",
        "\n",
        "def gradient(X, Y, W, lamb):\n",
        "  ex = np.exp(-Y * np.dot(X, W))\n",
        "  return np.dot(ex / (1+ex) * (-Y), X) + 2 * lamb * W\n",
        "\n",
        "def hessian(X, Y, W, lamb):\n",
        "  ex = np.exp(-Y * np.dot(X, W))\n",
        "  z = np.sqrt(ex) * (1/(1+ex)) * Y\n",
        "  X1 = np.expand_dims(z, 1).repeat(X.shape[1], axis=1) + X\n",
        "  return np.dot(X1.T, X1) + 2 * lamb"
      ],
      "metadata": {
        "id": "ssWu81atN2qf"
      },
      "execution_count": 46,
      "outputs": []
    },
    {
      "cell_type": "code",
      "source": [
        "loss_hist_batch = [] # to store the history of loss J(w_t)\n",
        "\n",
        "# implement batch steepest gradient method here\n",
        "W = np.random.rand(x_d4.shape[1]-1)\n",
        "lamb = 0.5\n",
        "lr = 0.002\n",
        "for i in range(100):\n",
        "  loss_hist_batch.append(loss_func(X, Y, W, lamb))\n",
        "  W -= lr * gradient(X, Y, W, lamb)  "
      ],
      "metadata": {
        "id": "5vG28NjDSJWt"
      },
      "execution_count": 10,
      "outputs": []
    },
    {
      "cell_type": "code",
      "source": [
        "loss_hist_newton = [] # to store the history of loss J(w_t)\n",
        "\n",
        "# implement Newton based method here\n",
        "W = np.random.rand(x_d4.shape[1]-1)\n",
        "lamb = 0.5\n",
        "for i in range(100):\n",
        "  loss_hist_newton.append(loss_func(X, Y, W, lamb))\n",
        "  H = hessian(X, Y, W, lamb)\n",
        "  g = gradient(X, Y, W, lamb)\n",
        "  d = np.dot(g, np.linalg.inv(H))\n",
        "  W -= d"
      ],
      "metadata": {
        "id": "33xGGVNgSfKm"
      },
      "execution_count": 11,
      "outputs": []
    },
    {
      "cell_type": "code",
      "source": [
        "# plot the result\n",
        "plt.plot(loss_hist_batch, label=\"SGD\")\n",
        "plt.plot(loss_hist_newton, label=\"Newton\")\n",
        "plt.legend()"
      ],
      "metadata": {
        "colab": {
          "base_uri": "https://localhost:8080/",
          "height": 282
        },
        "id": "GbFkFYq4SmAo",
        "outputId": "7bffce04-4334-4ee4-d444-9e980dd314a7"
      },
      "execution_count": 12,
      "outputs": [
        {
          "output_type": "execute_result",
          "data": {
            "text/plain": [
              "<matplotlib.legend.Legend at 0x7fa9ac30ef50>"
            ]
          },
          "metadata": {},
          "execution_count": 12
        },
        {
          "output_type": "display_data",
          "data": {
            "text/plain": [
              "<Figure size 432x288 with 1 Axes>"
            ],
            "image/png": "[encoded data removed]"
          },
          "metadata": {
            "needs_background": "light"
          }
        }
      ]
    },
    {
      "cell_type": "code",
      "source": [
        "#SGD\n",
        "w_list_sgd = []\n",
        "W = np.random.rand(x_d4.shape[1]-1)\n",
        "lamb = 0.5\n",
        "lr = 0.002\n",
        "for i in range(100):\n",
        "  w_list_sgd.append(W.copy())\n",
        "  W -= lr * gradient(X, Y, W, lamb)\n",
        "diff_sgd = [np.linalg.norm(w-W, ord=2) for w in w_list_sgd]\n",
        "#Newton\n",
        "w_list_newton = []\n",
        "W = np.random.rand(x_d4.shape[1]-1)\n",
        "lamb = 0.5\n",
        "for i in range(100):\n",
        "  w_list_newton.append(W.copy())\n",
        "  H = hessian(X, Y, W, lamb)\n",
        "  g = gradient(X, Y, W, lamb)\n",
        "  d = np.dot(g, np.linalg.inv(H))\n",
        "  W -= d\n",
        "diff_newton = [np.linalg.norm(w-W, ord=2) for w in w_list_newton]\n",
        "\n",
        "#Semilog Plot\n",
        "plt.grid(True, which=\"both\")\n",
        "plt.semilogy(diff_sgd, c='g', label=\"SGD\")\n",
        "plt.semilogy(diff_newton, c='r', label=\"Newton\")\n",
        "plt.legend()"
      ],
      "metadata": {
        "colab": {
          "base_uri": "https://localhost:8080/",
          "height": 282
        },
        "id": "KLzLiSdKRJk1",
        "outputId": "bb673035-9200-4edd-d6d7-641492a8ef94"
      },
      "execution_count": 13,
      "outputs": [
        {
          "output_type": "execute_result",
          "data": {
            "text/plain": [
              "<matplotlib.legend.Legend at 0x7fa9ac294990>"
            ]
          },
          "metadata": {},
          "execution_count": 13
        },
        {
          "output_type": "display_data",
          "data": {
            "text/plain": [
              "<Figure size 432x288 with 1 Axes>"
            ],
            "image/png": "[encoded data removed]"
          },
          "metadata": {
            "needs_background": "light"
          }
        }
      ]
    },
    {
      "cell_type": "code",
      "source": [
        "# dataset 5\n",
        "n = 200\n",
        "x_d5 = 3 * (np.random.rand(n, 4) - 0.5)\n",
        "W = np.array([[ 2,  -1, 0.5,],\n",
        "              [-3,   2,   1,],\n",
        "              [ 1,   2,   3]])\n",
        "y_d5 = np.argmax(np.dot(np.hstack([x_d5[:,:2], np.ones((n, 1))]), W.T)\n",
        "                        + 0.5 * np.random.randn(n, 3), axis=1)"
      ],
      "metadata": {
        "id": "9lkOax9GV2Aw"
      },
      "execution_count": 14,
      "outputs": []
    },
    {
      "cell_type": "code",
      "source": [
        "X = x_d5[:,:-1]\n",
        "Y = np.zeros((y_d5.size, y_d5.max()+1))\n",
        "Y[np.arange(y_d5.size),y_d5] = 1\n",
        "\n",
        "def softmax(X, W):\n",
        "  ex = np.exp(np.dot(X, W.T))\n",
        "  sig = ex.sum(axis=1)\n",
        "  return ex / np.expand_dims(sig, 1).repeat(W.shape[1], axis=1)\n",
        "\n",
        "def loss_func_mulc(X, Y, W, lamb):\n",
        "  return -(Y*np.log(softmax(X, W))).sum() + lamb * np.trace(np.dot(W, W.T))\n",
        "\n",
        "def gradient_mulc(X, Y, W, lamb):\n",
        "  return np.dot((softmax(X, W)-Y).T, X) + 2*W\n",
        "\n",
        "def hessian_mulc(X, Y, W, lamb):\n",
        "  ex = np.exp(np.dot(X, W.T))\n",
        "  sig = np.expand_dims(ex.sum(axis=1), 1).repeat(W.shape[1], axis=1)\n",
        "  coe = (ex * (ex - sig) / sig**2)\n",
        "  hess = []\n",
        "  for i in range(W.shape[0]):\n",
        "    hess.append(np.dot(X.T, X * np.expand_dims(coe[:,i], 1).repeat(W.shape[1], axis=1))+2*lamb)\n",
        "  return np.array(hess)  "
      ],
      "metadata": {
        "id": "0_CH6I3JWr1_"
      },
      "execution_count": 15,
      "outputs": []
    },
    {
      "cell_type": "code",
      "source": [
        "#SGD\n",
        "loss_sgd = []\n",
        "w_list_sgd = []\n",
        "W_sgd = W.copy()\n",
        "lamb = 0.5\n",
        "lr = 0.002\n",
        "for i in range(100):\n",
        "  w_list_sgd.append(W_sgd.copy())\n",
        "  loss_sgd.append(loss_func_mulc(X, Y, W_sgd, lamb))\n",
        "  W_sgd -=  lr * gradient_mulc(X, Y, W_sgd, lamb)\n",
        "diff_sgd = [np.linalg.norm(w-W_sgd, ord=2) for w in w_list_sgd]\n",
        "#Newton\n",
        "loss_newton = []\n",
        "w_list_newton = []\n",
        "W_newton = W.copy()\n",
        "lamb = 0.5\n",
        "lr = 0.5\n",
        "for i in range(100):\n",
        "  loss_newton.append(loss_func_mulc(X, Y, W_newton, lamb))\n",
        "  w_list_newton.append(W_newton.copy())\n",
        "  H = hessian_mulc(X, Y, W_newton, lamb)\n",
        "  g = gradient_mulc(X, Y, W_newton, lamb)\n",
        "  d = np.array([np.dot(g[i], np.linalg.inv(H[i])) for i in range(W.shape[0])])\n",
        "  W_newton += lr * d\n",
        "diff_newton = [np.linalg.norm(w-W_newton, ord=2) for w in w_list_newton]"
      ],
      "metadata": {
        "id": "mIB3G59hWOBS"
      },
      "execution_count": 16,
      "outputs": []
    },
    {
      "cell_type": "code",
      "source": [
        "#visualization of loss\n",
        "plt.plot(loss_sgd, label=\"SGD\")\n",
        "plt.plot(loss_newton, label=\"Newton\")\n",
        "plt.legend()"
      ],
      "metadata": {
        "colab": {
          "base_uri": "https://localhost:8080/",
          "height": 282
        },
        "id": "3pWuL5zWXRfF",
        "outputId": "1078d262-036e-482c-f38c-74e22911aae4"
      },
      "execution_count": 17,
      "outputs": [
        {
          "output_type": "execute_result",
          "data": {
            "text/plain": [
              "<matplotlib.legend.Legend at 0x7fa9abc86c90>"
            ]
          },
          "metadata": {},
          "execution_count": 17
        },
        {
          "output_type": "display_data",
          "data": {
            "text/plain": [
              "<Figure size 432x288 with 1 Axes>"
            ],
            "image/png": "[encoded data removed]"
          },
          "metadata": {
            "needs_background": "light"
          }
        }
      ]
    },
    {
      "cell_type": "code",
      "source": [
        "#Semilog Plot\n",
        "plt.grid(True, which=\"both\")\n",
        "plt.semilogy(diff_sgd, c='g', label=\"SGD\")\n",
        "plt.semilogy(diff_newton, c='r', label=\"Newton\")\n",
        "plt.legend()"
      ],
      "metadata": {
        "colab": {
          "base_uri": "https://localhost:8080/",
          "height": 282
        },
        "id": "lrdieA6HW2JQ",
        "outputId": "a1a76a8a-4854-4180-edb9-6c59bd68dfe9"
      },
      "execution_count": 18,
      "outputs": [
        {
          "output_type": "execute_result",
          "data": {
            "text/plain": [
              "<matplotlib.legend.Legend at 0x7fa9abbe9110>"
            ]
          },
          "metadata": {},
          "execution_count": 18
        },
        {
          "output_type": "display_data",
          "data": {
            "text/plain": [
              "<Figure size 432x288 with 1 Axes>"
            ],
            "image/png": "[encoded data removed]"
          },
          "metadata": {
            "needs_background": "light"
          }
        }
      ]
    },
    {
      "cell_type": "markdown",
      "source": [
        "# Problem 3 (3)"
      ],
      "metadata": {
        "id": "6ACAov_QNz5O"
      }
    },
    {
      "cell_type": "code",
      "source": [
        "# dataset 2\n",
        "n = 15\n",
        "omega = np.random.randn()\n",
        "noise = 0.8 * np.random.randn(n)\n",
        "\n",
        "x_d2 = np.random.randn(n, 2) + 0\n",
        "y_d2 = 2 * (omega * x_d2[:,0] + x_d2[:,1] + noise > 0) - 1\n",
        "\n",
        "plt.plot(np.extract(y_d2>0,x_d2[:,0]),np.extract(y_d2>0,x_d2[:,1]), 'x')\n",
        "plt.plot(np.extract(y_d2<0,x_d2[:,0]),np.extract(y_d2<0,x_d2[:,1]), 'o')"
      ],
      "metadata": {
        "colab": {
          "base_uri": "https://localhost:8080/",
          "height": 285
        },
        "id": "B3KTfUKjHXA0",
        "outputId": "a5361169-fe06-4249-89b8-f47e1448c17d"
      },
      "execution_count": 462,
      "outputs": [
        {
          "output_type": "execute_result",
          "data": {
            "text/plain": [
              "[<matplotlib.lines.Line2D at 0x7fa99b25c750>]"
            ]
          },
          "metadata": {},
          "execution_count": 462
        },
        {
          "output_type": "display_data",
          "data": {
            "text/plain": [
              "<Figure size 432x288 with 1 Axes>"
            ],
            "image/png": "[encoded data removed]"
          },
          "metadata": {
            "needs_background": "light"
          }
        }
      ]
    },
    {
      "cell_type": "code",
      "source": [
        "def compute_k(X, Y):\n",
        "  xy = X * np.expand_dims(Y, 1).repeat(X.shape[1], axis=1)\n",
        "  return np.dot(xy, xy.T)"
      ],
      "metadata": {
        "id": "nKoVetz57j0z"
      },
      "execution_count": 261,
      "outputs": []
    },
    {
      "cell_type": "code",
      "source": [
        "def loss_func_csvm(X, Y, W, lamb):\n",
        "  loss = np.column_stack((1-Y*np.dot(X, W), np.zeros((X.shape[0], 1)))).max(axis=1).sum()\n",
        "  regu = lamb * (np.linalg.norm(W, ord=2)**2)\n",
        "  return loss + regu"
      ],
      "metadata": {
        "id": "cZdbFSQ5ivmv"
      },
      "execution_count": 288,
      "outputs": []
    },
    {
      "cell_type": "code",
      "source": [
        "def alpha2w(X, Y, lamb, alp):\n",
        "  return (np.expand_dims(alp * Y, 1).repeat(X.shape[1], axis=1) * X).sum(axis=0) / (2*lamb)"
      ],
      "metadata": {
        "id": "tgU9KAcUjPzr"
      },
      "execution_count": 263,
      "outputs": []
    },
    {
      "cell_type": "code",
      "source": [
        "def loss_func_csvm_dual(K, alp, lamb):\n",
        "  return alp.dot(K.dot(alp)) / (4*lamb) - alp.sum()"
      ],
      "metadata": {
        "id": "HKJe1ScW4l9m"
      },
      "execution_count": 264,
      "outputs": []
    },
    {
      "cell_type": "code",
      "source": [
        "def next_alp(alp, K, lamb, lr):\n",
        "  alp_next = alp - lr * (K.dot(alp) / (2*lamb) - 1)\n",
        "  return (alp_next - alp_next.min()) / (alp_next.max()-alp_next.min())"
      ],
      "metadata": {
        "id": "s571cIV59fDX"
      },
      "execution_count": 265,
      "outputs": []
    },
    {
      "cell_type": "code",
      "source": [
        "X = np.column_stack((x_d2,np.ones((x_d2.shape[0], 1))))\n",
        "Y = y_d2\n",
        "lamb = 0.5\n",
        "K = compute_k(X, Y)\n",
        "v, _ = np.linalg.eig(K)\n",
        "lr = 1 / v.max().real"
      ],
      "metadata": {
        "id": "TzghaVlQNy-l"
      },
      "execution_count": 463,
      "outputs": []
    },
    {
      "cell_type": "code",
      "source": [
        "alp_csvm = np.random.rand(X.shape[0])\n",
        "score_alp = []\n",
        "hinge_loss = []\n",
        "regul_csvm = []\n",
        "for i in range(30):\n",
        "  W = alpha2w(X, Y, lamb, alp_csvm)\n",
        "  score_alp.append(-loss_func_csvm_dual(K, alp_csvm, lamb))\n",
        "  hinge_loss.append(loss_func_csvm(X, Y, W, lamb))\n",
        "  regul_csvm.append(np.linalg.norm(W, ord=2))\n",
        "  alp_csvm = next_alp(alp_csvm, K, lamb, lr)\n",
        "\n",
        "plt.plot(score_alp, c='r', label=\"dual\")\n",
        "plt.plot(hinge_loss, c='g', label=\"hinge\")\n",
        "plt.legend()"
      ],
      "metadata": {
        "colab": {
          "base_uri": "https://localhost:8080/",
          "height": 282
        },
        "id": "VgS9lJut765V",
        "outputId": "c60ed716-43ef-4804-a448-2dbf5fcce9c7"
      },
      "execution_count": 464,
      "outputs": [
        {
          "output_type": "execute_result",
          "data": {
            "text/plain": [
              "<matplotlib.legend.Legend at 0x7fa99b17b9d0>"
            ]
          },
          "metadata": {},
          "execution_count": 464
        },
        {
          "output_type": "display_data",
          "data": {
            "text/plain": [
              "<Figure size 432x288 with 1 Axes>"
            ],
            "image/png": "[encoded data removed]"
          },
          "metadata": {
            "needs_background": "light"
          }
        }
      ]
    },
    {
      "cell_type": "code",
      "source": [
        "plt.xlim(-3, 3)\n",
        "plt.ylim(-3, 3)\n",
        "plt.xlabel('x0')\n",
        "plt.ylabel('x1')\n",
        "plt.plot(np.extract(y_d2>0,x_d2[:,0]),np.extract(y_d2>0,x_d2[:,1]), 'x')\n",
        "plt.plot(np.extract(y_d2<0,x_d2[:,0]),np.extract(y_d2<0,x_d2[:,1]), 'o')\n",
        "x_0 = np.arange(-3, 4, 0.1)\n",
        "x_1 = np.arange(-3, 4, 0.1)\n",
        "w = alpha2w(X, Y, lamb, alp_csvm)\n",
        "z = np.empty((len(x_0),len(x_1)),dtype='float')\n",
        "for i in range(len(x_1)):\n",
        "  for j in range(len(x_0)):\n",
        "    z[i][j] = x_0[j]*w[0]+x_1[i]*w[1]+w[2]\n",
        "contour = plt.contour(x_0, x_1, z, [-1, 0, 1])\n",
        "plt.clabel(contour, colors=('k'))"
      ],
      "metadata": {
        "colab": {
          "base_uri": "https://localhost:8080/",
          "height": 300
        },
        "id": "l0HkWNIdP6ui",
        "outputId": "cfe4aff6-9b80-4910-c755-37a9e5e820aa"
      },
      "execution_count": 465,
      "outputs": [
        {
          "output_type": "execute_result",
          "data": {
            "text/plain": [
              "<a list of 3 text.Text objects>"
            ]
          },
          "metadata": {},
          "execution_count": 465
        },
        {
          "output_type": "display_data",
          "data": {
            "text/plain": [
              "<Figure size 432x288 with 1 Axes>"
            ],
            "image/png": "[encoded data removed]"
          },
          "metadata": {
            "needs_background": "light"
          }
        }
      ]
    }
  ]
}