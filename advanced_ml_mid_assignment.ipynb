{
  "nbformat": 4,
  "nbformat_minor": 0,
  "metadata": {
    "colab": {
      "name": "advanced_ml_mid_assignment.ipynb",
      "provenance": [],
      "toc_visible": true,
      "authorship_tag": "ABX9TyOC7+yAbYMx7VLjrn9ov1pO",
      "include_colab_link": true
    },
    "kernelspec": {
      "name": "python3",
      "display_name": "Python 3"
    },
    "language_info": {
      "name": "python"
    }
  },
  "cells": [
    {
      "cell_type": "markdown",
      "metadata": {
        "id": "view-in-github",
        "colab_type": "text"
      },
      "source": [
        "<a href=\"https://colab.research.google.com/github/singwang-cn/The_first_pattern_recognition/blob/master/advanced_ml_mid_assignment.ipynb\" target=\"_parent\"><img src=\"https://colab.research.google.com/assets/colab-badge.svg\" alt=\"Open In Colab\"/></a>"
      ]
    },
    {
      "cell_type": "code",
      "execution_count": 3,
      "metadata": {
        "id": "SMkt3vgsE3OA"
      },
      "outputs": [],
      "source": [
        "import numpy as np\n",
        "import matplotlib.pyplot as plt\n",
        "import cvxpy as cv"
      ]
    },
    {
      "cell_type": "markdown",
      "source": [
        "# Problem 1"
      ],
      "metadata": {
        "id": "ozEGODvvYLJY"
      }
    },
    {
      "cell_type": "code",
      "source": [
        "n = 200\n",
        "x_d4 = 3 * (np.random.rand(n, 4) - 0.5)\n",
        "y_d4 = (2 * x_d4[:, 0] - 1 * x_d4[:,1] + 0.5 + 0.5 * np.random.randn(n)) > 0\n",
        "y_d4 = 2 * y_d4 -1"
      ],
      "metadata": {
        "id": "QyzwzhxfJ2C3"
      },
      "execution_count": 175,
      "outputs": []
    },
    {
      "cell_type": "code",
      "source": [
        "def loss_func(X, Y, W, lamb):\n",
        "  return np.log(1 + np.exp(-Y * np.dot(X, W))).sum() + lamb * np.dot(W, W)"
      ],
      "metadata": {
        "id": "ssWu81atN2qf"
      },
      "execution_count": 176,
      "outputs": []
    },
    {
      "cell_type": "code",
      "source": [
        "def gradient(X, Y, W, lamb):\n",
        "  ex = np.exp(-Y * np.dot(X, W))\n",
        "  return np.dot(ex / (1+ex) * (-Y), X) + 2 * lamb * W"
      ],
      "metadata": {
        "id": "zLICGdhgh71H"
      },
      "execution_count": 177,
      "outputs": []
    },
    {
      "cell_type": "code",
      "source": [
        "def hessian(X, Y, W, lamb):\n",
        "  ex = np.exp(-Y * np.dot(X, W))\n",
        "  z = np.sqrt(ex) * (1/(1+ex)) * Y\n",
        "  X1 = np.expand_dims(z, 1).repeat(X.shape[1], axis=1) + X\n",
        "  return np.dot(X1.T, X1) + lamb"
      ],
      "metadata": {
        "id": "oZtr1JbLb_wp"
      },
      "execution_count": 178,
      "outputs": []
    },
    {
      "cell_type": "code",
      "source": [
        "loss_hist_batch = [] # to store the history of loss J(w_t)\n",
        "\n",
        "# implement batch steepest gradient method here\n",
        "X = np.column_stack((x_d4,np.ones((200, 1))))\n",
        "Y = y_d4\n",
        "W = np.random.rand(4+1)\n",
        "lamb = 0.5\n",
        "lr = 0.001\n",
        "for i in range(100):\n",
        "  loss_hist_batch.append(loss_func(X, Y, W, lamb))\n",
        "  W -= lr * gradient(X, Y, W, lamb)  "
      ],
      "metadata": {
        "id": "5vG28NjDSJWt"
      },
      "execution_count": 183,
      "outputs": []
    },
    {
      "cell_type": "code",
      "source": [
        "loss_hist_newton = [] # to store the history of loss J(w_t)\n",
        "\n",
        "# implement Newton based method here\n",
        "X = np.column_stack((x_d4,np.ones((200, 1))))\n",
        "Y = y_d4\n",
        "W = np.random.rand(4+1)\n",
        "lamb = 0.5\n",
        "for i in range(100):\n",
        "  loss_hist_newton.append(loss_func(X, Y, W, lamb))\n",
        "  H = hessian(X, Y, W, lamb)\n",
        "  g = gradient(X, Y, W, lamb)\n",
        "  d = np.dot(g, np.linalg.inv(H))\n",
        "  W -= d"
      ],
      "metadata": {
        "id": "33xGGVNgSfKm"
      },
      "execution_count": 182,
      "outputs": []
    },
    {
      "cell_type": "code",
      "source": [
        "# plot the result\n",
        "plt.plot(loss_hist_batch)\n",
        "plt.plot(loss_hist_newton)"
      ],
      "metadata": {
        "colab": {
          "base_uri": "https://localhost:8080/",
          "height": 282
        },
        "id": "GbFkFYq4SmAo",
        "outputId": "c93ada2d-184f-43f2-c00b-2644d691eba7"
      },
      "execution_count": 184,
      "outputs": [
        {
          "output_type": "execute_result",
          "data": {
            "text/plain": [
              "[<matplotlib.lines.Line2D at 0x7fdcfbf8c910>]"
            ]
          },
          "metadata": {},
          "execution_count": 184
        },
        {
          "output_type": "display_data",
          "data": {
            "text/plain": [
              "<Figure size 432x288 with 1 Axes>"
            ],
            "image/png": "[encoded data removed]"
          },
          "metadata": {
            "needs_background": "light"
          }
        }
      ]
    }
  ]
}