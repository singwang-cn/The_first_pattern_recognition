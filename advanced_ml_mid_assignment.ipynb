{
  "nbformat": 4,
  "nbformat_minor": 0,
  "metadata": {
    "colab": {
      "name": "advanced_ml_mid_assignment.ipynb",
      "provenance": [],
      "collapsed_sections": [],
      "toc_visible": true,
      "authorship_tag": "ABX9TyPP2IdalHlLq4Ovxk0wpj7h",
      "include_colab_link": true
    },
    "kernelspec": {
      "name": "python3",
      "display_name": "Python 3"
    },
    "language_info": {
      "name": "python"
    }
  },
  "cells": [
    {
      "cell_type": "markdown",
      "metadata": {
        "id": "view-in-github",
        "colab_type": "text"
      },
      "source": [
        "<a href=\"https://colab.research.google.com/github/singwang-cn/The_first_pattern_recognition/blob/master/advanced_ml_mid_assignment.ipynb\" target=\"_parent\"><img src=\"https://colab.research.google.com/assets/colab-badge.svg\" alt=\"Open In Colab\"/></a>"
      ]
    },
    {
      "cell_type": "code",
      "execution_count": 329,
      "metadata": {
        "id": "SMkt3vgsE3OA"
      },
      "outputs": [],
      "source": [
        "import numpy as np\n",
        "import matplotlib.pyplot as plt\n",
        "import cvxpy as cv"
      ]
    },
    {
      "cell_type": "markdown",
      "source": [
        "# Problem 1"
      ],
      "metadata": {
        "id": "ozEGODvvYLJY"
      }
    },
    {
      "cell_type": "code",
      "source": [
        "# dataset 4\n",
        "n = 200\n",
        "x_d4 = 3 * (np.random.rand(n, 4) - 0.5)\n",
        "y_d4 = (2 * x_d4[:, 0] - 1 * x_d4[:,1] + 0.5 + 0.5 * np.random.randn(n)) > 0\n",
        "y_d4 = 2 * y_d4 -1"
      ],
      "metadata": {
        "id": "QyzwzhxfJ2C3"
      },
      "execution_count": 330,
      "outputs": []
    },
    {
      "cell_type": "code",
      "source": [
        "#X = np.column_stack((x_d4,np.ones((200, 1))))\n",
        "X = x_d4[:,:-1]\n",
        "Y = y_d4"
      ],
      "metadata": {
        "id": "cY-DKnJMQwlF"
      },
      "execution_count": 331,
      "outputs": []
    },
    {
      "cell_type": "code",
      "source": [
        "def loss_func(X, Y, W, lamb):\n",
        "  return np.log(1 + np.exp(-Y * np.dot(X, W))).sum() + lamb * np.dot(W, W)"
      ],
      "metadata": {
        "id": "ssWu81atN2qf"
      },
      "execution_count": 332,
      "outputs": []
    },
    {
      "cell_type": "code",
      "source": [
        "def gradient(X, Y, W, lamb):\n",
        "  ex = np.exp(-Y * np.dot(X, W))\n",
        "  return np.dot(ex / (1+ex) * (-Y), X) + 2 * lamb * W"
      ],
      "metadata": {
        "id": "zLICGdhgh71H"
      },
      "execution_count": 333,
      "outputs": []
    },
    {
      "cell_type": "code",
      "source": [
        "def hessian(X, Y, W, lamb):\n",
        "  ex = np.exp(-Y * np.dot(X, W))\n",
        "  z = np.sqrt(ex) * (1/(1+ex)) * Y\n",
        "  X1 = np.expand_dims(z, 1).repeat(X.shape[1], axis=1) + X\n",
        "  return np.dot(X1.T, X1) + 2 * lamb"
      ],
      "metadata": {
        "id": "oZtr1JbLb_wp"
      },
      "execution_count": 334,
      "outputs": []
    },
    {
      "cell_type": "code",
      "source": [
        "loss_hist_batch = [] # to store the history of loss J(w_t)\n",
        "\n",
        "# implement batch steepest gradient method here\n",
        "W = np.random.rand(x_d4.shape[1]-1)\n",
        "lamb = 0.5\n",
        "lr = 0.002\n",
        "for i in range(100):\n",
        "  loss_hist_batch.append(loss_func(X, Y, W, lamb))\n",
        "  W -= lr * gradient(X, Y, W, lamb)  "
      ],
      "metadata": {
        "id": "5vG28NjDSJWt"
      },
      "execution_count": 335,
      "outputs": []
    },
    {
      "cell_type": "code",
      "source": [
        "loss_hist_newton = [] # to store the history of loss J(w_t)\n",
        "\n",
        "# implement Newton based method here\n",
        "W = np.random.rand(x_d4.shape[1]-1)\n",
        "lamb = 0.5\n",
        "for i in range(100):\n",
        "  loss_hist_newton.append(loss_func(X, Y, W, lamb))\n",
        "  H = hessian(X, Y, W, lamb)\n",
        "  g = gradient(X, Y, W, lamb)\n",
        "  d = np.dot(g, np.linalg.inv(H))\n",
        "  W -= d"
      ],
      "metadata": {
        "id": "33xGGVNgSfKm"
      },
      "execution_count": 336,
      "outputs": []
    },
    {
      "cell_type": "code",
      "source": [
        "# plot the result\n",
        "plt.plot(loss_hist_batch, label=\"SGD\")\n",
        "plt.plot(loss_hist_newton, label=\"Newton\")\n",
        "plt.legend()"
      ],
      "metadata": {
        "colab": {
          "base_uri": "https://localhost:8080/",
          "height": 282
        },
        "id": "GbFkFYq4SmAo",
        "outputId": "846d861f-8c72-4ed8-e9cf-2c3a554b2314"
      },
      "execution_count": 337,
      "outputs": [
        {
          "output_type": "execute_result",
          "data": {
            "text/plain": [
              "<matplotlib.legend.Legend at 0x7f76911d85d0>"
            ]
          },
          "metadata": {},
          "execution_count": 337
        },
        {
          "output_type": "display_data",
          "data": {
            "text/plain": [
              "<Figure size 432x288 with 1 Axes>"
            ],
            "image/png": "[encoded data removed]"
          },
          "metadata": {
            "needs_background": "light"
          }
        }
      ]
    },
    {
      "cell_type": "code",
      "source": [
        "#SGD\n",
        "w_list_sgd = []\n",
        "W = np.random.rand(x_d4.shape[1]-1)\n",
        "lamb = 0.5\n",
        "lr = 0.002\n",
        "for i in range(100):\n",
        "  w_list_sgd.append(W.copy())\n",
        "  W -= lr * gradient(X, Y, W, lamb)\n",
        "diff_sgd = [np.linalg.norm(w-W, ord=2) for w in w_list_sgd]\n",
        "#Newton\n",
        "w_list_newton = []\n",
        "W = np.random.rand(x_d4.shape[1]-1)\n",
        "lamb = 0.5\n",
        "for i in range(100):\n",
        "  w_list_newton.append(W.copy())\n",
        "  H = hessian(X, Y, W, lamb)\n",
        "  g = gradient(X, Y, W, lamb)\n",
        "  d = np.dot(g, np.linalg.inv(H))\n",
        "  W -= d\n",
        "diff_newton = [np.linalg.norm(w-W, ord=2) for w in w_list_newton]\n",
        "\n",
        "#Semilog Plot\n",
        "plt.grid(True, which=\"both\")\n",
        "plt.semilogy(diff_sgd, c='g', label=\"SGD\")\n",
        "plt.semilogy(diff_newton, c='r', label=\"Newton\")\n",
        "plt.legend()"
      ],
      "metadata": {
        "colab": {
          "base_uri": "https://localhost:8080/",
          "height": 282
        },
        "id": "KLzLiSdKRJk1",
        "outputId": "9dc1e537-1d43-47e3-a8e8-a46ffe182f44"
      },
      "execution_count": 338,
      "outputs": [
        {
          "output_type": "execute_result",
          "data": {
            "text/plain": [
              "<matplotlib.legend.Legend at 0x7f7690847fd0>"
            ]
          },
          "metadata": {},
          "execution_count": 338
        },
        {
          "output_type": "display_data",
          "data": {
            "text/plain": [
              "<Figure size 432x288 with 1 Axes>"
            ],
            "image/png": "[encoded data removed]"
          },
          "metadata": {
            "needs_background": "light"
          }
        }
      ]
    },
    {
      "cell_type": "code",
      "source": [
        "# dataset 5\n",
        "n = 200\n",
        "x_d5 = 3 * (np.random.rand(n, 4) - 0.5)\n",
        "W = np.array([[ 2,  -1, 0.5,],\n",
        "              [-3,   2,   1,],\n",
        "              [ 1,   2,   3]])\n",
        "y_d5 = np.argmax(np.dot(np.hstack([x_d5[:,:2], np.ones((n, 1))]), W.T)\n",
        "                        + 0.5 * np.random.randn(n, 3), axis=1)"
      ],
      "metadata": {
        "id": "9lkOax9GV2Aw"
      },
      "execution_count": 339,
      "outputs": []
    },
    {
      "cell_type": "code",
      "source": [
        "X = x_d5[:,:-1]\n",
        "Y = np.zeros((y_d5.size, y_d5.max()+1))\n",
        "Y[np.arange(y_d5.size),y_d5] = 1\n",
        "\n",
        "def softmax(X, W):\n",
        "  ex = np.exp(np.dot(X, W.T))\n",
        "  sig = ex.sum(axis=1)\n",
        "  return ex / np.expand_dims(sig, 1).repeat(W.shape[1], axis=1)\n",
        "\n",
        "def loss_func_mulc(X, Y, W, lamb):\n",
        "  return -(Y*np.log(softmax(X, W))).sum() + lamb * np.trace(np.dot(W, W.T))\n",
        "\n",
        "def gradient_mulc(X, Y, W, lamb):\n",
        "  return np.dot((softmax(X, W)-Y).T, X)\n",
        "\n",
        "def hessian_mulc(X, Y, W, lamb):\n",
        "  ex = np.exp(np.dot(X, W.T))\n",
        "  sig = np.expand_dims(ex.sum(axis=1), 1).repeat(W.shape[1], axis=1)\n",
        "  coe = (ex * (ex - sig) / sig**2)\n",
        "  hess = []\n",
        "  for i in range(W.shape[0]):\n",
        "    hess.append(np.dot(X.T, X * np.expand_dims(coe[:,i], 1).repeat(W.shape[1], axis=1)))\n",
        "  return np.array(hess)  "
      ],
      "metadata": {
        "id": "0_CH6I3JWr1_"
      },
      "execution_count": 340,
      "outputs": []
    },
    {
      "cell_type": "code",
      "source": [
        "#SGD\n",
        "loss_sgd = []\n",
        "w_list_sgd = []\n",
        "W_sgd = W.copy()\n",
        "lamb = 0.5\n",
        "lr = 0.002\n",
        "for i in range(100):\n",
        "  w_list_sgd.append(W_sgd.copy())\n",
        "  loss_sgd.append(loss_func_mulc(X, Y, W_sgd, lamb))\n",
        "  W_sgd -= lr * gradient_mulc(X, Y, W_sgd, lamb)\n",
        "diff_sgd = [np.linalg.norm(w-W_sgd, ord=2) for w in w_list_sgd]\n",
        "#Newton\n",
        "loss_newton = []\n",
        "w_list_newton = []\n",
        "W_newton = W.copy()\n",
        "lamb = 0.5\n",
        "lr = 0.1\n",
        "for i in range(100):\n",
        "  loss_newton.append(loss_func_mulc(X, Y, W_newton, lamb))\n",
        "  w_list_newton.append(W_newton.copy())\n",
        "  H = hessian_mulc(X, Y, W_newton, lamb)\n",
        "  g = gradient_mulc(X, Y, W_newton, lamb)\n",
        "  d = np.array([np.dot(g[i], np.linalg.inv(H[i])) for i in range(W.shape[0])])\n",
        "  W_newton += lr * d\n",
        "diff_newton = [np.linalg.norm(w-W_newton, ord=2) for w in w_list_newton]"
      ],
      "metadata": {
        "id": "mIB3G59hWOBS"
      },
      "execution_count": 341,
      "outputs": []
    },
    {
      "cell_type": "code",
      "source": [
        "#visualization of loss\n",
        "plt.plot(loss_sgd, label=\"SGD\")\n",
        "plt.plot(loss_newton, label=\"Newton\")\n",
        "plt.legend()"
      ],
      "metadata": {
        "colab": {
          "base_uri": "https://localhost:8080/",
          "height": 282
        },
        "id": "3pWuL5zWXRfF",
        "outputId": "7a422596-5e6a-4b6c-c8ce-d13b92553f05"
      },
      "execution_count": 343,
      "outputs": [
        {
          "output_type": "execute_result",
          "data": {
            "text/plain": [
              "<matplotlib.legend.Legend at 0x7f768fe34690>"
            ]
          },
          "metadata": {},
          "execution_count": 343
        },
        {
          "output_type": "display_data",
          "data": {
            "text/plain": [
              "<Figure size 432x288 with 1 Axes>"
            ],
            "image/png": "[encoded data removed]"
          },
          "metadata": {
            "needs_background": "light"
          }
        }
      ]
    },
    {
      "cell_type": "code",
      "source": [
        "#Semilog Plot\n",
        "plt.grid(True, which=\"both\")\n",
        "plt.semilogy(diff_sgd, c='g', label=\"SGD\")\n",
        "plt.semilogy(diff_newton, c='r', label=\"Newton\")\n",
        "plt.legend()"
      ],
      "metadata": {
        "colab": {
          "base_uri": "https://localhost:8080/",
          "height": 282
        },
        "id": "lrdieA6HW2JQ",
        "outputId": "724efba1-ccc5-4d4a-dd7e-2e5678c66e74"
      },
      "execution_count": 344,
      "outputs": [
        {
          "output_type": "execute_result",
          "data": {
            "text/plain": [
              "<matplotlib.legend.Legend at 0x7f768fba0610>"
            ]
          },
          "metadata": {},
          "execution_count": 344
        },
        {
          "output_type": "display_data",
          "data": {
            "text/plain": [
              "<Figure size 432x288 with 1 Axes>"
            ],
            "image/png": "[encoded data removed]"
          },
          "metadata": {
            "needs_background": "light"
          }
        }
      ]
    }
  ]
}